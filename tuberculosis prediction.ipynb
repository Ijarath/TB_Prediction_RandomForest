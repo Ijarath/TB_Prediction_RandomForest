{
  "nbformat": 4,
  "nbformat_minor": 0,
  "metadata": {
    "colab": {
      "provenance": [],
      "include_colab_link": true
    },
    "kernelspec": {
      "name": "python3",
      "display_name": "Python 3"
    },
    "language_info": {
      "name": "python"
    }
  },
  "cells": [
    {
      "cell_type": "markdown",
      "metadata": {
        "id": "view-in-github",
        "colab_type": "text"
      },
      "source": [
        "<a href=\"https://colab.research.google.com/github/Ijarath/TB_Prediction_RandomForest/blob/main/tuberculosis%20prediction.ipynb\" target=\"_parent\"><img src=\"https://colab.research.google.com/assets/colab-badge.svg\" alt=\"Open In Colab\"/></a>"
      ]
    },
    {
      "cell_type": "code",
      "source": [
        "import pandas as pd\n",
        "import random\n",
        "import numpy as np\n",
        "\n",
        "# Generate random names\n",
        "names = [\n",
        "    \"Alex\", \"Jordan\", \"Taylor\", \"Morgan\", \"Casey\", \"Riley\", \"Cameron\", \"Dakota\", \"Skyler\", \"Quinn\",\n",
        "    \"Avery\", \"Bailey\", \"Blake\", \"Charlie\", \"Drew\", \"Elliot\", \"Emerson\", \"Finley\", \"Harper\", \"Hayden\",\n",
        "    \"Jamie\", \"Jesse\", \"Kai\", \"Kendall\", \"Lane\", \"Logan\", \"Mason\", \"Micah\", \"Noah\", \"Peyton\",\n",
        "    \"Phoenix\", \"Reese\", \"Remy\", \"Rory\", \"Rowan\", \"Ryan\", \"Sage\", \"Sawyer\", \"Shiloh\", \"Spencer\",\n",
        "    \"Sydney\", \"Tatum\", \"Terry\", \"Toby\", \"Tristan\", \"Val\", \"Winter\", \"Zion\", \"Arden\", \"Briar\",\n",
        "    \"Cassidy\", \"Devon\", \"Emery\", \"Frankie\", \"Grey\", \"Indigo\", \"Jules\", \"Lennon\", \"Marley\", \"Nico\",\n",
        "    \"Oakley\", \"Parker\", \"Quincy\", \"Reagan\", \"River\", \"Sam\", \"Sky\", \"Sterling\", \"Tegan\", \"Tyler\",\n",
        "    \"Vesper\", \"Wren\", \"Zane\", \"Addison\", \"Blair\", \"Brooklyn\", \"Camden\", \"Dakari\", \"Dallas\", \"Easton\",\n",
        "    \"Ellis\", \"Everett\", \"Gale\", \"Genesis\", \"Harlow\", \"Hunter\", \"Izzy\", \"Jayden\", \"Jordan\", \"Kaiya\",\n",
        "    \"Kyrie\", \"Lark\", \"Leighton\", \"Luca\", \"Lyric\", \"Maddox\", \"Milan\", \"Monroe\", \"Nevada\", \"Nova\",\n",
        "    \"Oaklyn\", \"Palmer\", \"Paris\", \"Perry\", \"Phoenix\", \"Presley\", \"Reign\", \"Remington\", \"Riley\", \"Robin\",\n",
        "    \"Rylan\", \"Sasha\", \"Shawn\", \"Skylar\", \"Sloan\", \"Sol\", \"Sonny\", \"Storm\", \"Tate\", \"Taylor\",\n",
        "    \"Teagan\", \"Tennessee\", \"Toby\", \"Toni\", \"Tory\", \"True\", \"Tyler\", \"Valentine\", \"West\", \"Winter\",\n",
        "    \"Wynn\", \"Zaire\", \"Zephyr\", \"Zion\", \"Zola\", \"Adrian\", \"Ali\", \"Angel\", \"Ashton\", \"Aubrey\",\n",
        "    \"August\", \"Austen\", \"Beau\", \"Blaze\", \"Brett\", \"Bryce\", \"Case\", \"Chase\", \"Chris\", \"Cruz\",\n",
        "    \"Dale\", \"Dana\", \"Darian\", \"Daryl\", \"Dawson\", \"Denver\", \"Dominique\", \"Dorian\", \"Eden\", \"Eli\",\n",
        "    \"Emerson\", \"Finley\", \"Gentry\", \"Glenn\", \"Grayson\", \"Harley\", \"Hollis\", \"Indy\", \"Jaden\", \"Jalen\",\n",
        "    \"Jay\", \"Jean\", \"Jesse\", \"Joey\", \"Jordan\", \"Justice\", \"Karter\", \"Kasey\", \"Kelly\", \"Kennedy\",\n",
        "    \"Keegan\", \"Kieran\", \"Kit\", \"Kyle\", \"Lennox\", \"Leslie\", \"Linden\", \"Logan\", \"London\", \"Marlow\"\n",
        "]\n",
        "\n",
        "# Generate synthetic data\n",
        "num_rows = 1500\n",
        "\n",
        "data = {\n",
        "    \"Name\": [random.choice(names) for _ in range(num_rows)],\n",
        "    \"Age\": np.random.randint(18, 80, size=num_rows),\n",
        "    \"Gender\": [random.choice([\"Male\", \"Female\", \"Other\"]) for _ in range(num_rows)],\n",
        "    \"Geographic_Location\": [random.choice([\"Urban\", \"Rural\", \"Suburban\"]) for _ in range(num_rows)],\n",
        "    \"History_of_TB_in_Family\": [random.choice([\"Yes\", \"No\"]) for _ in range(num_rows)],\n",
        "    \"Chronic_Diseases\": [random.choice([\"Diabetes\", \"Hypertension\", \"None\", \"HIV\", \"Asthma\"]) for _ in range(num_rows)],\n",
        "    \"Cough\": [random.choice([\"Yes\", \"No\"]) for _ in range(num_rows)],\n",
        "    \"Fever\": [random.choice([\"Yes\", \"No\"]) for _ in range(num_rows)],\n",
        "    \"Weight_Loss\": [random.choice([\"Yes\", \"No\"]) for _ in range(num_rows)],\n",
        "    \"Chest_Pain\": [random.choice([\"Yes\", \"No\"]) for _ in range(num_rows)],\n",
        "    \"Night_Sweats\": [random.choice([\"Yes\", \"No\"]) for _ in range(num_rows)],\n",
        "    \"coughing_blood\": [random.choice([\"Yes\", \"No\"]) for _ in range(num_rows)],\n",
        "    \"shortness_of_breath\": [random.choice([\"Yes\", \"No\"]) for _ in range(num_rows)],\n",
        "    \"back_pain_in_certain_parts\": [random.choice([\"Yes\", \"No\"]) for _ in range(num_rows)],\n",
        "    \"swollen_lymph_nodes\": [random.choice([\"Yes\", \"No\"]) for _ in range(num_rows)],\n",
        "    \"Chest_Xray_Results\": [random.choice([\"Normal\", \"Abnormal\", \"Suspected TB\"]) for _ in range(num_rows)]\n",
        "}\n",
        "\n",
        "# Create DataFrame\n",
        "synthetic_tb_data = pd.DataFrame(data)\n",
        "\n",
        "# Save to CSV\n",
        "synthetic_tb_data.to_csv('synthetic_tb_dataset.csv', index=False)\n",
        "\n",
        "# Display the first few rows\n",
        "print(synthetic_tb_data.head())"
      ],
      "metadata": {
        "colab": {
          "base_uri": "https://localhost:8080/"
        },
        "id": "L5b57jSPAUX4",
        "outputId": "ef81aede-3f55-4ae1-8f8f-72f2d01a3433"
      },
      "execution_count": null,
      "outputs": [
        {
          "output_type": "stream",
          "name": "stdout",
          "text": [
            "      Name  Age  Gender Geographic_Location History_of_TB_in_Family  \\\n",
            "0  Justice   77  Female               Urban                     Yes   \n",
            "1   Camden   79    Male            Suburban                      No   \n",
            "2   Austen   23   Other            Suburban                      No   \n",
            "3     Sage   46    Male               Urban                     Yes   \n",
            "4  Everett   27   Other               Rural                      No   \n",
            "\n",
            "  Chronic_Diseases Cough Fever Weight_Loss Chest_Pain Night_Sweats  \\\n",
            "0         Diabetes   Yes    No          No        Yes          Yes   \n",
            "1           Asthma    No   Yes          No        Yes          Yes   \n",
            "2             None    No    No         Yes        Yes           No   \n",
            "3         Diabetes    No    No         Yes         No           No   \n",
            "4         Diabetes   Yes    No         Yes         No          Yes   \n",
            "\n",
            "  coughing_blood shortness_of_breath back_pain_in_certain_parts  \\\n",
            "0             No                 Yes                         No   \n",
            "1             No                  No                        Yes   \n",
            "2            Yes                 Yes                        Yes   \n",
            "3             No                  No                         No   \n",
            "4             No                 Yes                        Yes   \n",
            "\n",
            "  swollen_lymph_nodes Chest_Xray_Results  \n",
            "0                 Yes           Abnormal  \n",
            "1                 Yes             Normal  \n",
            "2                 Yes             Normal  \n",
            "3                 Yes             Normal  \n",
            "4                 Yes           Abnormal  \n"
          ]
        }
      ]
    },
    {
      "cell_type": "code",
      "source": [
        "import pandas as pd\n",
        "from sklearn.model_selection import train_test_split\n",
        "from sklearn.ensemble import RandomForestClassifier\n",
        "from sklearn.metrics import accuracy_score\n",
        "\n",
        "# Load the synthetic dataset\n",
        "file_path = '/content/synthetic_tb_dataset.csv'\n",
        "data = pd.read_csv(file_path)\n",
        "\n",
        "# Remove non-symptom columns\n",
        "columns_to_remove = [\"Name\", \"Age\", \"Gender\", \"Geographic_Location\", \"History_of_TB_in_Family\", \"Chronic_Diseases\", \"Chest_Xray_Results\"]\n",
        "data_cleaned = data.drop(columns=columns_to_remove)\n",
        "\n",
        "# Convert categorical data to numerical\n",
        "data_cleaned = pd.get_dummies(data_cleaned)\n",
        "\n",
        "# Define the target variable (assuming 'Cough' indicates TB presence)\n",
        "target_column = 'Cough_Yes' if 'Cough_Yes' in data_cleaned.columns else data_cleaned.columns[0]\n",
        "features = [col for col in data_cleaned.columns if col != target_column]\n",
        "\n",
        "X = data_cleaned[features]\n",
        "y = data_cleaned[target_column]\n",
        "\n",
        "# Split the data\n",
        "X_train, X_test, y_train, y_test = train_test_split(X, y, test_size=0.3, random_state=42, stratify=y)\n",
        "\n",
        "# Train the Random Forest model\n",
        "rf_model = RandomForestClassifier(n_estimators=100, random_state=42)\n",
        "rf_model.fit(X_train, y_train)\n",
        "\n",
        "# Get feature importances\n",
        "feature_importances = rf_model.feature_importances_\n",
        "\n",
        "# Create a DataFrame to sort and display the feature importances\n",
        "feature_importance_df = pd.DataFrame({\n",
        "    'Symptom': features,\n",
        "    'Importance': feature_importances\n",
        "}).sort_values(by='Importance', ascending=False)\n",
        "\n",
        "# Identify the most important symptom\n",
        "most_important_symptom = feature_importance_df.iloc[0]['Symptom']\n",
        "\n",
        "\n",
        "\n",
        "# Display the result\n",
        "print(f\"The most occurring symptom while getting affected by tuberculosis is: {most_important_symptom}\")"
      ],
      "metadata": {
        "colab": {
          "base_uri": "https://localhost:8080/"
        },
        "id": "TfsOOC_PDa2s",
        "outputId": "d8f7cc97-aa66-46f7-bb1d-12d8f470d44c"
      },
      "execution_count": null,
      "outputs": [
        {
          "output_type": "stream",
          "name": "stdout",
          "text": [
            "The most occurring symptom while getting affected by tuberculosis is: Cough_No\n"
          ]
        }
      ]
    },
    {
      "cell_type": "code",
      "source": [
        "import pandas as pd\n",
        "from sklearn.model_selection import train_test_split\n",
        "from sklearn.ensemble import RandomForestClassifier\n",
        "from sklearn.metrics import accuracy_score, classification_report\n",
        "\n",
        "# Load the synthetic dataset\n",
        "file_path = '/content/synthetic_tb_dataset.csv'\n",
        "data = pd.read_csv(file_path)\n",
        "\n",
        "# Remove non-relevant columns\n",
        "columns_to_remove = [\"Name\"]\n",
        "data_cleaned = data.drop(columns=columns_to_remove)\n",
        "\n",
        "# Convert categorical data to numerical\n",
        "data_cleaned = pd.get_dummies(data_cleaned)\n",
        "\n",
        "# Define the target variable (assuming 'Chest_Xray_Results' indicates TB presence)\n",
        "target_column = 'Chest_Xray_Results_Suspected TB' if 'Chest_Xray_Results_Suspected TB' in data_cleaned.columns else 'Chest_Xray_Results_Abnormal'\n",
        "features = [col for col in data_cleaned.columns if col != target_column]\n",
        "\n",
        "X = data_cleaned[features]\n",
        "y = data_cleaned[target_column]\n",
        "\n",
        "# Split the data\n",
        "X_train, X_test, y_train, y_test = train_test_split(X, y, test_size=0.3, random_state=42, stratify=y)\n",
        "\n",
        "# Train the Random Forest model\n",
        "rf_model = RandomForestClassifier(n_estimators=300, random_state=42, max_depth=10, min_samples_split=5)\n",
        "rf_model.fit(X_train, y_train)\n",
        "\n",
        "# Evaluate the model\n",
        "y_pred = rf_model.predict(X_test)\n",
        "accuracy = accuracy_score(y_test, y_pred)\n",
        "\n",
        "if accuracy < 0.8:\n",
        "    print(f\"Model accuracy ({accuracy*100:.2f}%) is below the threshold of 80%. Please retrain with different parameters.\")\n",
        "else:\n",
        "    print(f\"Model accuracy is {accuracy*100:.2f}%\")\n",
        "\n",
        "    # Function to predict TB for new input data\n",
        "    def predict_tb(input_data):\n",
        "        # Majority voting mechanism\n",
        "        symptom_keys = ['Cough', 'Fever', 'Weight_Loss', 'Chest_Pain', 'Night_Sweats']\n",
        "        symptom_count = sum(1 for key in symptom_keys if input_data.get(key, 'No').lower() == 'yes')\n",
        "\n",
        "        # If majority of symptoms are 'Yes'\n",
        "        if symptom_count > len(symptom_keys) / 2:\n",
        "            return \"Likely to have Tuberculosis\"\n",
        "        else:\n",
        "            return \"Unlikely to have Tuberculosis\"\n",
        "\n",
        "    # Taking user input\n",
        "    user_input = {\n",
        "        'Age': int(input(\"Enter Age: \")),\n",
        "        'Gender': input(\"Enter Gender (Male/Female/Other): \"),\n",
        "        'Geographic_Location': input(\"Enter Geographic Location (Urban/Rural/Suburban): \"),\n",
        "        'History_of_TB_in_Family': input(\"History of TB in Family? (Yes/No): \"),\n",
        "        'Chronic_Diseases': input(\"Any Chronic Diseases? (Diabetes/Hypertension/None/HIV/Asthma): \"),\n",
        "        'Cough': input(\"Do you have Cough? (Yes/No): \"),\n",
        "        'Fever': input(\"Do you have Fever? (Yes/No): \"),\n",
        "        'Weight_Loss': input(\"Have you experienced Weight Loss? (Yes/No): \"),\n",
        "        'Chest_Pain': input(\"Do you have Chest Pain? (Yes/No): \"),\n",
        "        'Night_Sweats': input(\"Do you have Night Sweats? (Yes/No): \")\n",
        "    }\n",
        "\n",
        "    result = predict_tb(user_input)\n",
        "    print(f\"Prediction Result: {result}\")\n",
        "\n",
        "    # Calculate Model Accuracy\n",
        "accuracy = accuracy_score(y_test, y_pred)\n",
        "print(\"✅ Model Accuracy:\", round(accuracy * 100, 2), \"%\")\n",
        "\n",
        "# Display Detailed Performance Metrics\n",
        "print(\"\\nClassification Report:\\n\", classification_report(y_test, y_pred))"
      ],
      "metadata": {
        "colab": {
          "base_uri": "https://localhost:8080/"
        },
        "id": "bchmyVDeZskp",
        "outputId": "3a9575ba-10d3-4b05-d3e7-53891760d9ca"
      },
      "execution_count": null,
      "outputs": [
        {
          "name": "stdout",
          "output_type": "stream",
          "text": [
            "Model accuracy is 100.00%\n",
            "Enter Age: 12\n",
            "Enter Gender (Male/Female/Other): male\n"
          ]
        }
      ]
    },
    {
      "cell_type": "code",
      "source": [
        "import pandas as pd\n",
        "import random\n",
        "from sklearn.model_selection import train_test_split\n",
        "from sklearn.ensemble import RandomForestClassifier\n",
        "from sklearn.metrics import accuracy_score\n",
        "\n",
        "# Load the synthetic dataset\n",
        "file_path = '/content/synthetic_tb_dataset.csv'\n",
        "data = pd.read_csv(file_path)\n",
        "\n",
        "# Remove non-symptom columns\n",
        "columns_to_remove = [\"Name\", \"Age\", \"Gender\", \"Geographic_Location\", \"History_of_TB_in_Family\", \"Chronic_Diseases\", \"Chest_Xray_Results\"]\n",
        "data_cleaned = data.drop(columns=columns_to_remove)\n",
        "\n",
        "# Ensure we have at least 6 symptoms to select\n",
        "num_symptoms_to_select = min(6, len(data_cleaned.columns))\n",
        "\n",
        "# Randomly select symptoms\n",
        "selected_symptoms = random.sample(list(data_cleaned.columns), num_symptoms_to_select)\n",
        "\n",
        "# Store accuracies for each symptom\n",
        "accuracy_results = []\n",
        "\n",
        "# Calculate accuracy for each selected symptom\n",
        "for symptom in selected_symptoms:\n",
        "    features = [s for s in selected_symptoms if s != symptom]\n",
        "\n",
        "    if not features:\n",
        "        continue\n",
        "\n",
        "    X = pd.get_dummies(data_cleaned[features])\n",
        "    y = (data_cleaned[symptom] == 'Yes').astype(int)\n",
        "\n",
        "    X_train, X_test, y_train, y_test = train_test_split(X, y, test_size=0.2, random_state=42, stratify=y)\n",
        "\n",
        "    # Random Forest Model with optimized parameters for higher accuracy\n",
        "    rf_model = RandomForestClassifier(\n",
        "        n_estimators=200,  # Slightly increased number of trees\n",
        "        max_depth=20,      # Increased depth for better learning\n",
        "        min_samples_split=2,  # Lower split threshold to capture more patterns\n",
        "        min_samples_leaf=1,\n",
        "        random_state=42,\n",
        "        n_jobs=-1          # Use all processors\n",
        "    )\n",
        "    rf_model.fit(X_train, y_train)\n",
        "\n",
        "    y_pred = rf_model.predict(X_test)\n",
        "    accuracy = accuracy_score(y_test, y_pred)\n",
        "\n",
        "    accuracy_results.append({\"Symptom\": symptom, \"Accuracy\": accuracy})\n",
        "\n",
        "# Convert results to DataFrame and save to CSV\n",
        "accuracy_df = pd.DataFrame(accuracy_results)\n",
        "accuracy_df.to_csv('selected_symptoms_accuracy.csv', index=False)\n",
        "\n",
        "print(f\"Randomly selected symptoms: {selected_symptoms}\")\n",
        "print(\"Accuracies have been saved in 'selected_symptoms_accuracy.csv'\")"
      ],
      "metadata": {
        "id": "Wt7MrJThglSE"
      },
      "execution_count": null,
      "outputs": []
    },
    {
      "cell_type": "code",
      "source": [
        "from sklearn.metrics import roc_auc_score, roc_curve\n",
        "import matplotlib.pyplot as plt\n",
        "\n",
        "# Predict probabilities\n",
        "y_prob = rf_model.predict_proba(X_test)[:, 1]  # Get probabilities for the positive class\n",
        "\n",
        "# Compute ROC curve\n",
        "fpr, tpr, thresholds = roc_curve(y_test, y_prob)\n",
        "roc_auc = roc_auc_score(y_test, y_prob)  # Compute AUC score\n",
        "\n",
        "# Plot ROC curve\n",
        "plt.figure(figsize=(8, 6))\n",
        "plt.plot(fpr, tpr, color='blue', label=f'ROC Curve (AUC = {roc_auc:.2f})')\n",
        "plt.plot([0, 1], [0, 1], 'k--', label='Random Guess')  # Diagonal line\n",
        "plt.xlabel('False Positive Rate')\n",
        "plt.ylabel('True Positive Rate')\n",
        "plt.title('ROC Curve for TB Prediction')\n",
        "plt.legend()\n",
        "plt.grid()\n",
        "plt.show()\n"
      ],
      "metadata": {
        "colab": {
          "base_uri": "https://localhost:8080/",
          "height": 564
        },
        "id": "H0WEK_dgX79i",
        "outputId": "2b218d79-d4fc-4bca-af5d-df71cb45b76e"
      },
      "execution_count": null,
      "outputs": [
        {
          "output_type": "display_data",
          "data": {
            "text/plain": [
              "<Figure size 800x600 with 1 Axes>"
            ],
            "image/png": "[encoded data removed]"
          },
          "metadata": {}
        }
      ]
    }
  ]
}